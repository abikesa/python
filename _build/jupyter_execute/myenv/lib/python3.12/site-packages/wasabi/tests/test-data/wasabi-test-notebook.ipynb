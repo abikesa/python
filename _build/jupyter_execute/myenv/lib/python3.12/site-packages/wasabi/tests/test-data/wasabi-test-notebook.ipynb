{
 "cells": [
  {
   "cell_type": "code",
   "execution_count": 1,
   "id": "eb5586f8",
   "metadata": {},
   "outputs": [
    {
     "name": "stdout",
     "output_type": "stream",
     "text": [
      "\u001b[38;5;3m⚠ This is a test. This is only a test.\u001b[0m\n",
      "<ipykernel.iostream.OutStream object at 0x106dbf0d0>\n"
     ]
    }
   ],
   "source": [
    "import sys\n",
    "import wasabi\n",
    "\n",
    "wasabi.msg.warn(\"This is a test. This is only a test.\")\n",
    "if sys.version_info >= (3, 7):\n",
    "    assert wasabi.util.supports_ansi()\n",
    "\n",
    "print(sys.stdout)"
   ]
  }
 ],
 "metadata": {
  "kernelspec": {
   "display_name": "Python 3 (ipykernel)",
   "language": "python",
   "name": "python3"
  },
  "language_info": {
   "codemirror_mode": {
    "name": "ipython",
    "version": 3
   },
   "file_extension": ".py",
   "mimetype": "text/x-python",
   "name": "python",
   "nbconvert_exporter": "python",
   "pygments_lexer": "ipython3",
   "version": "3.12.3"
  }
 },
 "nbformat": 4,
 "nbformat_minor": 5
}